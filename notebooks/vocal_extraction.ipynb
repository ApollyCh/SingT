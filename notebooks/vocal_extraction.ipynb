{
 "cells": [
  {
   "metadata": {},
   "cell_type": "markdown",
   "source": "# Extracting vocals from a song using Demucs",
   "id": "918da50b324aa7f1"
  },
  {
   "metadata": {
    "ExecuteTime": {
     "end_time": "2024-10-01T11:45:15.331898Z",
     "start_time": "2024-10-01T11:45:13.423768Z"
    }
   },
   "cell_type": "code",
   "source": [
    "import torch\n",
    "from demucs import pretrained\n",
    "from demucs.apply import apply_model\n",
    "import torchaudio\n",
    "import os\n",
    "\n",
    "\n",
    "def convert_to_stereo(input_file, target_samplerate):\n",
    "    wav, sr = torchaudio.load(input_file, normalize=True)\n",
    "\n",
    "    if sr != target_samplerate:\n",
    "        wav = torchaudio.transforms.Resample(orig_freq=sr, new_freq=target_samplerate)(wav)\n",
    "\n",
    "    if wav.shape[0] == 1:\n",
    "        wav = torch.cat([wav, wav], dim=0)\n",
    "    return wav\n",
    "\n",
    "\n",
    "def extract_vocals(input_file, output_folder):\n",
    "    model = pretrained.get_model('mdx_extra')\n",
    "    model.cuda()\n",
    "\n",
    "    wav = convert_to_stereo(input_file, model.samplerate)\n",
    "\n",
    "    sources = apply_model(model, wav[None], device='cuda')\n",
    "    vocals = sources[0, 3].cpu().numpy()  # Index 3 corresponds to vocals in 'mdx_extra'\n",
    "\n",
    "    output_path = os.path.join(output_folder, f\"{os.path.basename(input_file).replace('.mp3', '')}_vocals.wav\")\n",
    "    torchaudio.save(output_path, torch.tensor(vocals), sample_rate=model.samplerate)\n",
    "    print(f\"Vocal part saved: {output_path}\")"
   ],
   "id": "271632e616a84f13",
   "outputs": [],
   "execution_count": 1
  },
  {
   "metadata": {
    "ExecuteTime": {
     "end_time": "2024-10-01T11:46:02.167890Z",
     "start_time": "2024-10-01T11:45:15.332903Z"
    }
   },
   "cell_type": "code",
   "source": [
    "output_folder = \"songs/output_vocals\"\n",
    "\n",
    "input_file_1 = \"songs/В самое сердце.mp3\"\n",
    "input_file_2 = \"songs/Counting Stars.mp3\"\n",
    "\n",
    "os.makedirs(output_folder, exist_ok=True)\n",
    "extract_vocals(input_file_1, output_folder)\n",
    "extract_vocals(input_file_2, output_folder)"
   ],
   "id": "cfb10c8a84c2b442",
   "outputs": [
    {
     "name": "stdout",
     "output_type": "stream",
     "text": [
      "Vocal part saved: songs/output_vocals\\В самое сердце_vocals.wav\n",
      "Vocal part saved: songs/output_vocals\\Counting Stars_vocals.wav\n"
     ]
    }
   ],
   "execution_count": 2
  },
  {
   "metadata": {
    "ExecuteTime": {
     "end_time": "2024-10-01T11:46:48.707786Z",
     "start_time": "2024-10-01T11:46:02.167890Z"
    }
   },
   "cell_type": "code",
   "source": [
    "import whisper\n",
    "\n",
    "model = whisper.load_model(\"medium\")\n",
    "\n",
    "files = os.listdir(output_folder)\n",
    "for file in files:\n",
    "    input_file = os.path.join(output_folder, file)\n",
    "    print(f\"Transcribing {input_file}\")\n",
    "    print(model.transcribe(input_file)['text'])\n",
    "    print('------------------------')"
   ],
   "id": "13e0876f2ce211f0",
   "outputs": [
    {
     "name": "stdout",
     "output_type": "stream",
     "text": [
      "Transcribing songs/output_vocals\\Counting Stars_vocals.wav\n",
      " Lately I've been, I've been losing sleep Dreaming about the things that we could be But baby I've been, I've been praying hard Said no more counting dollars, we'll be counting stars Yeah, we'll be counting stars I see this life like a swinging vine Swing my heart across the line And my face is flashing signs Seek it out and ye shall find the old But I'm not that old young But I'm not that bold And I don't think the world is sold I'm just doing what we're told And I feel something so right By doing the wrong thing And I feel something so wrong By doing the right thing I could lie, could lie, could lie Everything that kills me makes me feel alive But baby I've been, I've been losing sleep Dreaming about the things that we could be But baby I've been, I've been praying hard Said no more counting dollars, we'll be counting stars But baby I've been, I've been losing sleep Dreaming about the things that we could be But baby I've been, I've been praying hard Said no more counting dollars, we'll be counting stars Baby I feel your love and I feel it burn Down this river every turn Hope is our four letter word Make that money, watch it burn Oh, but I'm not that old young But I'm not that bold And I don't think the world is sold I'm just doing what we're told And I feel something so wrong By doing the right thing I could lie, could lie, could lie Everything that drowns me makes me wanna fly But baby I've been, I've been losing sleep Dreaming about the things that we could be But baby I've been, I've been praying hard Said no more counting dollars, we'll be counting stars But baby I've been, I've been losing sleep Dreaming about the things that we could be But baby I've been, I've been praying hard Said no more counting dollars, we'll be counting stars Oh, take out money, watch it burn Sing in the river the lessons I learned Take out money, watch it burn Sing in the river the lessons I learned Everything that kills me makes me feel alive But baby I've been, I've been losing sleep Dreaming about the things that we could be But baby I've been, I've been praying hard Said no more counting dollars, we'll be counting stars But baby I've been, I've been losing sleep Dreaming about the things that we could be But baby I've been, I've been praying hard Said no more counting dollars, we'll be counting stars Oh, take out money, watch it burn Sing in the river the lessons I learned\n",
      "------------------------\n",
      "Transcribing songs/output_vocals\\В самое сердце_vocals.wav\n",
      " Не прячь пули, стреляй смело, Пускай стрелы в моё тело. Я не ангел, и ты тоже, я так делал, И ты сможешь молчать, гораздо больнее молчать. Лучше голос сорвать, кричать, Самое сердце на поражение. Что же ты медлишь с этой мишенью? Я всё растратил, карты открыты. Бей, что есть силы, и будем квиты в самое сердце. Опять мысли слепых стоя, Мне так мало тебя стало. Не прячь пули, обид тайных, Не прячь слёзы в глазах чайных. Молчать, гораздо больнее молчать, Лучше голос сорвать, кричать. Самое сердце на поражение. Что же ты медлишь с этой мишенью? Я всё растратил, карты открыты. Бей, что есть силы, и будем квиты в самое сердце. В самое сердце, в самое сердце. Молчать, гораздо больнее молчать, Лучше голос сорвать, кричать. Самое сердце на поражение. Что же ты медлишь с этой мишенью? Я всё растратил, карты открыты. Бей, что есть силы, и будем квиты в самое сердце. В самое сердце, в самое сердце. Молчать, гораздо больнее молчать, Лучше голос сорвать, кричать.\n",
      "------------------------\n"
     ]
    }
   ],
   "execution_count": 3
  },
  {
   "metadata": {},
   "cell_type": "code",
   "outputs": [],
   "execution_count": null,
   "source": "",
   "id": "619e7155a7283edd"
  }
 ],
 "metadata": {
  "kernelspec": {
   "display_name": "Python 3",
   "language": "python",
   "name": "python3"
  },
  "language_info": {
   "codemirror_mode": {
    "name": "ipython",
    "version": 2
   },
   "file_extension": ".py",
   "mimetype": "text/x-python",
   "name": "python",
   "nbconvert_exporter": "python",
   "pygments_lexer": "ipython2",
   "version": "2.7.6"
  }
 },
 "nbformat": 4,
 "nbformat_minor": 5
}
